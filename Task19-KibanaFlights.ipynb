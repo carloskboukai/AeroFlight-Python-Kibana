{
 "cells": [
  {
   "cell_type": "markdown",
   "id": "df16ccc9",
   "metadata": {},
   "source": [
    "This notebook contains the following:\n",
    "\n",
    "01- Setting up notebook.\n",
    "02- Data consistency checks and wrangling.\n",
    "03- Initial EDA.\n",
    "04- Data questions.\n"
   ]
  },
  {
   "cell_type": "markdown",
   "id": "8383a71c",
   "metadata": {},
   "source": [
    "01-Setting up notebook."
   ]
  },
  {
   "cell_type": "code",
   "execution_count": 1,
   "id": "afc5556a",
   "metadata": {},
   "outputs": [],
   "source": [
    "# Importing Analitycal and Visual libraries\n",
    "import pandas as pd\n",
    "import numpy as np\n",
    "import os\n",
    "import matplotlib.pyplot as plt\n",
    "import seaborn as sns\n",
    "import scipy\n",
    "from datetime import datetime \n",
    "import folium\n",
    "import json\n",
    "import plotly\n",
    "import plotly.express as px\n",
    "import geopandas as gpd\n",
    "from shapely.geometry import Point\n",
    "import sklearn\n",
    "from sklearn.model_selection import train_test_split \n",
    "from sklearn.linear_model import LinearRegression\n",
    "from sklearn.metrics import mean_squared_error, r2_score\n",
    "from sklearn.cluster import KMeans \n",
    "import pylab as pl"
   ]
  },
  {
   "cell_type": "code",
   "execution_count": 2,
   "id": "094e0509",
   "metadata": {},
   "outputs": [
    {
     "name": "stdout",
     "output_type": "stream",
     "text": [
      "C:\\Users\\Paola\\Desktop\\Shaul\\Data\\Data Courses\\Speedy Mentors\n"
     ]
    }
   ],
   "source": [
    "#Establishing path to import dataset.\n",
    "path =  r'C:\\Users\\Paola\\Desktop\\Shaul\\Data\\Data Courses\\Speedy Mentors'\n",
    "print(path)"
   ]
  },
  {
   "cell_type": "code",
   "execution_count": 3,
   "id": "73aa0351",
   "metadata": {},
   "outputs": [],
   "source": [
    "#Importing dataset.\n",
    "df = pd.read_csv(os.path.join(path, \"Task 19 - KibanaFlights\", \"flights.csv\"), index_col= False)\n",
    "#Dataset imported succesfully."
   ]
  },
  {
   "cell_type": "markdown",
   "id": "304b5985",
   "metadata": {},
   "source": [
    "02 - Quality and consistency checks. Data wrangling.`"
   ]
  },
  {
   "cell_type": "code",
   "execution_count": 4,
   "id": "502fc7bd",
   "metadata": {},
   "outputs": [
    {
     "data": {
      "text/plain": [
       "(5554, 26)"
      ]
     },
     "execution_count": 4,
     "metadata": {},
     "output_type": "execute_result"
    }
   ],
   "source": [
    "#Getting the DF dimensions.\n",
    "df.shape"
   ]
  },
  {
   "cell_type": "code",
   "execution_count": 5,
   "id": "2388ab25",
   "metadata": {},
   "outputs": [
    {
     "data": {
      "text/plain": [
       "Year                    0\n",
       "Month                   0\n",
       "DayofMonth              0\n",
       "DayOfWeek               0\n",
       "DepTime               194\n",
       "CRSDepTime              0\n",
       "ArrTime               197\n",
       "CRSArrTime              0\n",
       "ActualElapsedTime     208\n",
       "CRSElapsedTime          0\n",
       "AirTime               208\n",
       "ArrDelay              208\n",
       "DepDelay              194\n",
       "Origin                  0\n",
       "Dest                    0\n",
       "Distance                0\n",
       "TaxiIn                197\n",
       "TaxiOut               195\n",
       "Cancelled               0\n",
       "CancellationCode     5358\n",
       "Diverted                0\n",
       "CarrierDelay         4449\n",
       "WeatherDelay         4449\n",
       "NASDelay             4449\n",
       "SecurityDelay        4449\n",
       "LateAircraftDelay    4449\n",
       "dtype: int64"
      ]
     },
     "execution_count": 5,
     "metadata": {},
     "output_type": "execute_result"
    }
   ],
   "source": [
    "#Looking for missing values.\n",
    "df.isnull().sum()"
   ]
  },
  {
   "cell_type": "code",
   "execution_count": 6,
   "id": "b7dee9ad",
   "metadata": {},
   "outputs": [
    {
     "name": "stdout",
     "output_type": "stream",
     "text": [
      "<class 'pandas.core.frame.DataFrame'>\n",
      "RangeIndex: 5554 entries, 0 to 5553\n",
      "Data columns (total 26 columns):\n",
      " #   Column             Non-Null Count  Dtype  \n",
      "---  ------             --------------  -----  \n",
      " 0   Year               5554 non-null   int64  \n",
      " 1   Month              5554 non-null   int64  \n",
      " 2   DayofMonth         5554 non-null   int64  \n",
      " 3   DayOfWeek          5554 non-null   int64  \n",
      " 4   DepTime            5360 non-null   float64\n",
      " 5   CRSDepTime         5554 non-null   int64  \n",
      " 6   ArrTime            5357 non-null   float64\n",
      " 7   CRSArrTime         5554 non-null   int64  \n",
      " 8   ActualElapsedTime  5346 non-null   float64\n",
      " 9   CRSElapsedTime     5554 non-null   int64  \n",
      " 10  AirTime            5346 non-null   float64\n",
      " 11  ArrDelay           5346 non-null   float64\n",
      " 12  DepDelay           5360 non-null   float64\n",
      " 13  Origin             5554 non-null   object \n",
      " 14  Dest               5554 non-null   object \n",
      " 15  Distance           5554 non-null   int64  \n",
      " 16  TaxiIn             5357 non-null   float64\n",
      " 17  TaxiOut            5359 non-null   float64\n",
      " 18  Cancelled          5554 non-null   int64  \n",
      " 19  CancellationCode   196 non-null    object \n",
      " 20  Diverted           5554 non-null   int64  \n",
      " 21  CarrierDelay       1105 non-null   float64\n",
      " 22  WeatherDelay       1105 non-null   float64\n",
      " 23  NASDelay           1105 non-null   float64\n",
      " 24  SecurityDelay      1105 non-null   float64\n",
      " 25  LateAircraftDelay  1105 non-null   float64\n",
      "dtypes: float64(13), int64(10), object(3)\n",
      "memory usage: 1.1+ MB\n"
     ]
    }
   ],
   "source": [
    "df.info()"
   ]
  },
  {
   "cell_type": "markdown",
   "id": "f960e08f",
   "metadata": {},
   "source": [
    "These are the columns with missing values:\n",
    "\n",
    "1) DepTime               194\n",
    "2) ArrTime               197\n",
    "3) ActualElapsedTime     208\n",
    "4) AirTime               208\n",
    "5) ArrDelay              208\n",
    "6) DepDelay              194\n",
    "8) TaxiIn                197\n",
    "9) TaxiOut               195\n",
    "\n",
    "NOTE 1:These missing values are around 3% of the column's data. While statistically they could have been 'ignored', I prefer to use imputatation to have a 'smoother' analysis. For that purpose, I am going to use either the mean or the median, depemding on the difference between them and how skewed the data is.\n",
    "NOTE 2: The missing values of the 'CancellationCode' column belong to those flights which were not cancelled (hence, no cancelation code). To better visualise the data, I am going to replace the missing values with 'No cancellation'."
   ]
  },
  {
   "cell_type": "code",
   "execution_count": 7,
   "id": "f32d82d4",
   "metadata": {},
   "outputs": [
    {
     "data": {
      "text/html": [
       "<div>\n",
       "<style scoped>\n",
       "    .dataframe tbody tr th:only-of-type {\n",
       "        vertical-align: middle;\n",
       "    }\n",
       "\n",
       "    .dataframe tbody tr th {\n",
       "        vertical-align: top;\n",
       "    }\n",
       "\n",
       "    .dataframe thead th {\n",
       "        text-align: right;\n",
       "    }\n",
       "</style>\n",
       "<table border=\"1\" class=\"dataframe\">\n",
       "  <thead>\n",
       "    <tr style=\"text-align: right;\">\n",
       "      <th></th>\n",
       "      <th>Year</th>\n",
       "      <th>Month</th>\n",
       "      <th>DayofMonth</th>\n",
       "      <th>DayOfWeek</th>\n",
       "      <th>DepTime</th>\n",
       "      <th>CRSDepTime</th>\n",
       "      <th>ArrTime</th>\n",
       "      <th>CRSArrTime</th>\n",
       "      <th>ActualElapsedTime</th>\n",
       "      <th>CRSElapsedTime</th>\n",
       "      <th>...</th>\n",
       "      <th>Distance</th>\n",
       "      <th>TaxiIn</th>\n",
       "      <th>TaxiOut</th>\n",
       "      <th>Cancelled</th>\n",
       "      <th>Diverted</th>\n",
       "      <th>CarrierDelay</th>\n",
       "      <th>WeatherDelay</th>\n",
       "      <th>NASDelay</th>\n",
       "      <th>SecurityDelay</th>\n",
       "      <th>LateAircraftDelay</th>\n",
       "    </tr>\n",
       "  </thead>\n",
       "  <tbody>\n",
       "    <tr>\n",
       "      <th>count</th>\n",
       "      <td>5554.0</td>\n",
       "      <td>5554.000000</td>\n",
       "      <td>5554.000000</td>\n",
       "      <td>5554.000000</td>\n",
       "      <td>5360.000000</td>\n",
       "      <td>5554.00000</td>\n",
       "      <td>5357.000000</td>\n",
       "      <td>5554.000000</td>\n",
       "      <td>5346.000000</td>\n",
       "      <td>5554.000000</td>\n",
       "      <td>...</td>\n",
       "      <td>5554.000000</td>\n",
       "      <td>5357.000000</td>\n",
       "      <td>5359.000000</td>\n",
       "      <td>5554.000000</td>\n",
       "      <td>5554.000000</td>\n",
       "      <td>1105.000000</td>\n",
       "      <td>1105.000000</td>\n",
       "      <td>1105.000000</td>\n",
       "      <td>1105.000000</td>\n",
       "      <td>1105.000000</td>\n",
       "    </tr>\n",
       "    <tr>\n",
       "      <th>mean</th>\n",
       "      <td>2020.0</td>\n",
       "      <td>4.485956</td>\n",
       "      <td>15.829672</td>\n",
       "      <td>4.167267</td>\n",
       "      <td>1318.544963</td>\n",
       "      <td>1322.57220</td>\n",
       "      <td>1496.107710</td>\n",
       "      <td>1505.514404</td>\n",
       "      <td>229.489525</td>\n",
       "      <td>236.622434</td>\n",
       "      <td>...</td>\n",
       "      <td>1558.347677</td>\n",
       "      <td>9.618443</td>\n",
       "      <td>18.874977</td>\n",
       "      <td>0.035290</td>\n",
       "      <td>0.002161</td>\n",
       "      <td>26.112217</td>\n",
       "      <td>3.857014</td>\n",
       "      <td>13.828959</td>\n",
       "      <td>0.240724</td>\n",
       "      <td>21.638914</td>\n",
       "    </tr>\n",
       "    <tr>\n",
       "      <th>std</th>\n",
       "      <td>0.0</td>\n",
       "      <td>3.050727</td>\n",
       "      <td>8.993353</td>\n",
       "      <td>2.014785</td>\n",
       "      <td>497.082368</td>\n",
       "      <td>480.88507</td>\n",
       "      <td>554.127042</td>\n",
       "      <td>541.062588</td>\n",
       "      <td>105.281123</td>\n",
       "      <td>106.323087</td>\n",
       "      <td>...</td>\n",
       "      <td>870.009918</td>\n",
       "      <td>7.794218</td>\n",
       "      <td>8.670616</td>\n",
       "      <td>0.184528</td>\n",
       "      <td>0.046436</td>\n",
       "      <td>84.541635</td>\n",
       "      <td>37.977961</td>\n",
       "      <td>20.669910</td>\n",
       "      <td>3.543463</td>\n",
       "      <td>49.931120</td>\n",
       "    </tr>\n",
       "    <tr>\n",
       "      <th>min</th>\n",
       "      <td>2020.0</td>\n",
       "      <td>1.000000</td>\n",
       "      <td>1.000000</td>\n",
       "      <td>1.000000</td>\n",
       "      <td>1.000000</td>\n",
       "      <td>30.00000</td>\n",
       "      <td>1.000000</td>\n",
       "      <td>10.000000</td>\n",
       "      <td>49.000000</td>\n",
       "      <td>62.000000</td>\n",
       "      <td>...</td>\n",
       "      <td>175.000000</td>\n",
       "      <td>1.000000</td>\n",
       "      <td>7.000000</td>\n",
       "      <td>0.000000</td>\n",
       "      <td>0.000000</td>\n",
       "      <td>0.000000</td>\n",
       "      <td>0.000000</td>\n",
       "      <td>0.000000</td>\n",
       "      <td>0.000000</td>\n",
       "      <td>0.000000</td>\n",
       "    </tr>\n",
       "    <tr>\n",
       "      <th>25%</th>\n",
       "      <td>2020.0</td>\n",
       "      <td>3.000000</td>\n",
       "      <td>8.000000</td>\n",
       "      <td>2.000000</td>\n",
       "      <td>859.000000</td>\n",
       "      <td>900.00000</td>\n",
       "      <td>1136.000000</td>\n",
       "      <td>1141.000000</td>\n",
       "      <td>150.000000</td>\n",
       "      <td>156.000000</td>\n",
       "      <td>...</td>\n",
       "      <td>944.000000</td>\n",
       "      <td>5.000000</td>\n",
       "      <td>13.000000</td>\n",
       "      <td>0.000000</td>\n",
       "      <td>0.000000</td>\n",
       "      <td>0.000000</td>\n",
       "      <td>0.000000</td>\n",
       "      <td>0.000000</td>\n",
       "      <td>0.000000</td>\n",
       "      <td>0.000000</td>\n",
       "    </tr>\n",
       "    <tr>\n",
       "      <th>50%</th>\n",
       "      <td>2020.0</td>\n",
       "      <td>3.000000</td>\n",
       "      <td>16.000000</td>\n",
       "      <td>4.000000</td>\n",
       "      <td>1315.000000</td>\n",
       "      <td>1315.00000</td>\n",
       "      <td>1544.000000</td>\n",
       "      <td>1554.000000</td>\n",
       "      <td>216.000000</td>\n",
       "      <td>225.000000</td>\n",
       "      <td>...</td>\n",
       "      <td>1438.000000</td>\n",
       "      <td>8.000000</td>\n",
       "      <td>17.000000</td>\n",
       "      <td>0.000000</td>\n",
       "      <td>0.000000</td>\n",
       "      <td>2.000000</td>\n",
       "      <td>0.000000</td>\n",
       "      <td>5.000000</td>\n",
       "      <td>0.000000</td>\n",
       "      <td>0.000000</td>\n",
       "    </tr>\n",
       "    <tr>\n",
       "      <th>75%</th>\n",
       "      <td>2020.0</td>\n",
       "      <td>5.000000</td>\n",
       "      <td>24.000000</td>\n",
       "      <td>6.000000</td>\n",
       "      <td>1726.000000</td>\n",
       "      <td>1715.00000</td>\n",
       "      <td>1952.000000</td>\n",
       "      <td>1959.000000</td>\n",
       "      <td>319.000000</td>\n",
       "      <td>323.000000</td>\n",
       "      <td>...</td>\n",
       "      <td>2475.000000</td>\n",
       "      <td>11.000000</td>\n",
       "      <td>22.000000</td>\n",
       "      <td>0.000000</td>\n",
       "      <td>0.000000</td>\n",
       "      <td>21.000000</td>\n",
       "      <td>0.000000</td>\n",
       "      <td>21.000000</td>\n",
       "      <td>0.000000</td>\n",
       "      <td>22.000000</td>\n",
       "    </tr>\n",
       "    <tr>\n",
       "      <th>max</th>\n",
       "      <td>2020.0</td>\n",
       "      <td>12.000000</td>\n",
       "      <td>31.000000</td>\n",
       "      <td>7.000000</td>\n",
       "      <td>2359.000000</td>\n",
       "      <td>2359.00000</td>\n",
       "      <td>2400.000000</td>\n",
       "      <td>2359.000000</td>\n",
       "      <td>576.000000</td>\n",
       "      <td>524.000000</td>\n",
       "      <td>...</td>\n",
       "      <td>3784.000000</td>\n",
       "      <td>101.000000</td>\n",
       "      <td>121.000000</td>\n",
       "      <td>1.000000</td>\n",
       "      <td>1.000000</td>\n",
       "      <td>1272.000000</td>\n",
       "      <td>1043.000000</td>\n",
       "      <td>217.000000</td>\n",
       "      <td>96.000000</td>\n",
       "      <td>468.000000</td>\n",
       "    </tr>\n",
       "  </tbody>\n",
       "</table>\n",
       "<p>8 rows × 23 columns</p>\n",
       "</div>"
      ],
      "text/plain": [
       "         Year        Month   DayofMonth    DayOfWeek      DepTime  CRSDepTime  \\\n",
       "count  5554.0  5554.000000  5554.000000  5554.000000  5360.000000  5554.00000   \n",
       "mean   2020.0     4.485956    15.829672     4.167267  1318.544963  1322.57220   \n",
       "std       0.0     3.050727     8.993353     2.014785   497.082368   480.88507   \n",
       "min    2020.0     1.000000     1.000000     1.000000     1.000000    30.00000   \n",
       "25%    2020.0     3.000000     8.000000     2.000000   859.000000   900.00000   \n",
       "50%    2020.0     3.000000    16.000000     4.000000  1315.000000  1315.00000   \n",
       "75%    2020.0     5.000000    24.000000     6.000000  1726.000000  1715.00000   \n",
       "max    2020.0    12.000000    31.000000     7.000000  2359.000000  2359.00000   \n",
       "\n",
       "           ArrTime   CRSArrTime  ActualElapsedTime  CRSElapsedTime  ...  \\\n",
       "count  5357.000000  5554.000000        5346.000000     5554.000000  ...   \n",
       "mean   1496.107710  1505.514404         229.489525      236.622434  ...   \n",
       "std     554.127042   541.062588         105.281123      106.323087  ...   \n",
       "min       1.000000    10.000000          49.000000       62.000000  ...   \n",
       "25%    1136.000000  1141.000000         150.000000      156.000000  ...   \n",
       "50%    1544.000000  1554.000000         216.000000      225.000000  ...   \n",
       "75%    1952.000000  1959.000000         319.000000      323.000000  ...   \n",
       "max    2400.000000  2359.000000         576.000000      524.000000  ...   \n",
       "\n",
       "          Distance       TaxiIn      TaxiOut    Cancelled     Diverted  \\\n",
       "count  5554.000000  5357.000000  5359.000000  5554.000000  5554.000000   \n",
       "mean   1558.347677     9.618443    18.874977     0.035290     0.002161   \n",
       "std     870.009918     7.794218     8.670616     0.184528     0.046436   \n",
       "min     175.000000     1.000000     7.000000     0.000000     0.000000   \n",
       "25%     944.000000     5.000000    13.000000     0.000000     0.000000   \n",
       "50%    1438.000000     8.000000    17.000000     0.000000     0.000000   \n",
       "75%    2475.000000    11.000000    22.000000     0.000000     0.000000   \n",
       "max    3784.000000   101.000000   121.000000     1.000000     1.000000   \n",
       "\n",
       "       CarrierDelay  WeatherDelay     NASDelay  SecurityDelay  \\\n",
       "count   1105.000000   1105.000000  1105.000000    1105.000000   \n",
       "mean      26.112217      3.857014    13.828959       0.240724   \n",
       "std       84.541635     37.977961    20.669910       3.543463   \n",
       "min        0.000000      0.000000     0.000000       0.000000   \n",
       "25%        0.000000      0.000000     0.000000       0.000000   \n",
       "50%        2.000000      0.000000     5.000000       0.000000   \n",
       "75%       21.000000      0.000000    21.000000       0.000000   \n",
       "max     1272.000000   1043.000000   217.000000      96.000000   \n",
       "\n",
       "       LateAircraftDelay  \n",
       "count        1105.000000  \n",
       "mean           21.638914  \n",
       "std            49.931120  \n",
       "min             0.000000  \n",
       "25%             0.000000  \n",
       "50%             0.000000  \n",
       "75%            22.000000  \n",
       "max           468.000000  \n",
       "\n",
       "[8 rows x 23 columns]"
      ]
     },
     "execution_count": 7,
     "metadata": {},
     "output_type": "execute_result"
    }
   ],
   "source": [
    "df.describe()"
   ]
  },
  {
   "cell_type": "code",
   "execution_count": 8,
   "id": "7d8d3e86",
   "metadata": {},
   "outputs": [],
   "source": [
    "#Imputation Coding\n",
    "df['DepTime'].fillna((df['DepTime'].mean()), inplace=True)\n",
    "df['ArrTime'].fillna((df['ArrTime'].mean()), inplace=True)\n",
    "df['ActualElapsedTime'].fillna((df['ActualElapsedTime'].median()), inplace=True)\n",
    "df['AirTime'].fillna((df['AirTime'].mean()), inplace=True)\n",
    "df['ArrDelay'].fillna((df['ArrDelay'].mean()), inplace=True)\n",
    "df['DepDelay'].fillna((df['DepDelay'].mean()), inplace=True)\n",
    "df['TaxiIn'].fillna((df['TaxiIn'].median()), inplace=True)\n",
    "df['TaxiOut'].fillna((df['TaxiOut'].median()), inplace=True)"
   ]
  },
  {
   "cell_type": "code",
   "execution_count": 9,
   "id": "e6fce537",
   "metadata": {},
   "outputs": [],
   "source": [
    "#Replacing 'NaN' with '0' for 'No Cancelation'\n",
    "df['CancellationCode'].fillna('NoCancel', inplace = True)"
   ]
  },
  {
   "cell_type": "code",
   "execution_count": 10,
   "id": "4f855e32",
   "metadata": {},
   "outputs": [],
   "source": [
    "#These columns are not relevant to this particular analysis du to so many missing values (more then 80%).\n",
    "# They will be removed from this DF.\n",
    "#CarrierDelay         4449\n",
    "#WeatherDelay         4449\n",
    "#NASDelay             4449\n",
    "#SecurityDelay        4449\n",
    "#LateAircraftDelay    4449\n",
    "\n",
    "del df['CarrierDelay']\n",
    "del df['WeatherDelay']\n",
    "del df['NASDelay']\n",
    "del df['SecurityDelay']\n",
    "del df['LateAircraftDelay']"
   ]
  },
  {
   "cell_type": "code",
   "execution_count": 11,
   "id": "5546a5d2",
   "metadata": {},
   "outputs": [
    {
     "data": {
      "text/plain": [
       "Year                 0\n",
       "Month                0\n",
       "DayofMonth           0\n",
       "DayOfWeek            0\n",
       "DepTime              0\n",
       "CRSDepTime           0\n",
       "ArrTime              0\n",
       "CRSArrTime           0\n",
       "ActualElapsedTime    0\n",
       "CRSElapsedTime       0\n",
       "AirTime              0\n",
       "ArrDelay             0\n",
       "DepDelay             0\n",
       "Origin               0\n",
       "Dest                 0\n",
       "Distance             0\n",
       "TaxiIn               0\n",
       "TaxiOut              0\n",
       "Cancelled            0\n",
       "CancellationCode     0\n",
       "Diverted             0\n",
       "dtype: int64"
      ]
     },
     "execution_count": 11,
     "metadata": {},
     "output_type": "execute_result"
    }
   ],
   "source": [
    "df.isnull().sum()\n",
    "#Missing values have been corrected."
   ]
  },
  {
   "cell_type": "code",
   "execution_count": 12,
   "id": "ab8de888",
   "metadata": {},
   "outputs": [
    {
     "data": {
      "text/html": [
       "<div>\n",
       "<style scoped>\n",
       "    .dataframe tbody tr th:only-of-type {\n",
       "        vertical-align: middle;\n",
       "    }\n",
       "\n",
       "    .dataframe tbody tr th {\n",
       "        vertical-align: top;\n",
       "    }\n",
       "\n",
       "    .dataframe thead th {\n",
       "        text-align: right;\n",
       "    }\n",
       "</style>\n",
       "<table border=\"1\" class=\"dataframe\">\n",
       "  <thead>\n",
       "    <tr style=\"text-align: right;\">\n",
       "      <th></th>\n",
       "      <th>Year</th>\n",
       "      <th>Month</th>\n",
       "      <th>DayofMonth</th>\n",
       "      <th>DayOfWeek</th>\n",
       "      <th>DepTime</th>\n",
       "      <th>CRSDepTime</th>\n",
       "      <th>ArrTime</th>\n",
       "      <th>CRSArrTime</th>\n",
       "      <th>ActualElapsedTime</th>\n",
       "      <th>CRSElapsedTime</th>\n",
       "      <th>...</th>\n",
       "      <th>ArrDelay</th>\n",
       "      <th>DepDelay</th>\n",
       "      <th>Origin</th>\n",
       "      <th>Dest</th>\n",
       "      <th>Distance</th>\n",
       "      <th>TaxiIn</th>\n",
       "      <th>TaxiOut</th>\n",
       "      <th>Cancelled</th>\n",
       "      <th>CancellationCode</th>\n",
       "      <th>Diverted</th>\n",
       "    </tr>\n",
       "  </thead>\n",
       "  <tbody>\n",
       "  </tbody>\n",
       "</table>\n",
       "<p>0 rows × 21 columns</p>\n",
       "</div>"
      ],
      "text/plain": [
       "Empty DataFrame\n",
       "Columns: [Year, Month, DayofMonth, DayOfWeek, DepTime, CRSDepTime, ArrTime, CRSArrTime, ActualElapsedTime, CRSElapsedTime, AirTime, ArrDelay, DepDelay, Origin, Dest, Distance, TaxiIn, TaxiOut, Cancelled, CancellationCode, Diverted]\n",
       "Index: []\n",
       "\n",
       "[0 rows x 21 columns]"
      ]
     },
     "execution_count": 12,
     "metadata": {},
     "output_type": "execute_result"
    }
   ],
   "source": [
    "# Looking for duplicates\n",
    "dups = df[df.duplicated()]\n",
    "dups\n",
    "#No duplicates in this dataset"
   ]
  },
  {
   "cell_type": "code",
   "execution_count": 13,
   "id": "b9374b51",
   "metadata": {},
   "outputs": [],
   "source": [
    "# Checking df for mixed data in the dataset.\n",
    "for col in df.columns.tolist():\n",
    "  weird = (df[[col]].applymap(type) != df[[col]].iloc[0].apply(type)).any(axis = 1)\n",
    "  if len (df[weird]) > 0:\n",
    "    print (col)\n",
    "#No mixed data column found = 'CancellationCode'."
   ]
  },
  {
   "cell_type": "code",
   "execution_count": 14,
   "id": "72d631b3",
   "metadata": {},
   "outputs": [
    {
     "data": {
      "text/plain": [
       "NoCancel    5358\n",
       "B            172\n",
       "A             21\n",
       "C              3\n",
       "Name: CancellationCode, dtype: int64"
      ]
     },
     "execution_count": 14,
     "metadata": {},
     "output_type": "execute_result"
    }
   ],
   "source": [
    "df['CancellationCode'].value_counts(dropna=False)"
   ]
  },
  {
   "cell_type": "code",
   "execution_count": 15,
   "id": "83ec12db",
   "metadata": {},
   "outputs": [],
   "source": [
    "# Exporting 'DF' to csv\n",
    "df.to_csv(os.path.join(path, 'Task 19 - KibanaFlights', 'Task19-KibanaFlights_updated.csv'))"
   ]
  },
  {
   "cell_type": "markdown",
   "id": "12f1b991",
   "metadata": {},
   "source": [
    "03 - Getting initial EDA"
   ]
  },
  {
   "cell_type": "code",
   "execution_count": 16,
   "id": "24e97655",
   "metadata": {},
   "outputs": [
    {
     "data": {
      "text/plain": [
       "2020    5554\n",
       "Name: Year, dtype: int64"
      ]
     },
     "execution_count": 16,
     "metadata": {},
     "output_type": "execute_result"
    }
   ],
   "source": [
    "df['Year'].value_counts(dropna=False)\n",
    "#All data belong to year 2020."
   ]
  },
  {
   "cell_type": "code",
   "execution_count": 17,
   "id": "0a1a3b51",
   "metadata": {},
   "outputs": [
    {
     "data": {
      "text/plain": [
       "3     1512\n",
       "5     1204\n",
       "1     1081\n",
       "11     522\n",
       "7      374\n",
       "2      263\n",
       "4      166\n",
       "8      159\n",
       "10     113\n",
       "6       79\n",
       "12      41\n",
       "9       40\n",
       "Name: Month, dtype: int64"
      ]
     },
     "execution_count": 17,
     "metadata": {},
     "output_type": "execute_result"
    }
   ],
   "source": [
    "df['Month'].value_counts(dropna=False)"
   ]
  },
  {
   "cell_type": "code",
   "execution_count": 1,
   "id": "d0e915d9",
   "metadata": {},
   "outputs": [
    {
     "name": "stdout",
     "output_type": "stream",
     "text": [
      "Jan = 0.19463449765934462\n",
      "Feb = 0.0473532589124955\n",
      "Mar = 0.2722362261433201\n",
      "Apr = 0.02988836874324811\n",
      "May = 0.18437162405473534\n",
      "Jun = 0.014223982715160245\n",
      "Jul = 0.06733885487936622\n",
      "Aug = 0.02862801584443644\n",
      "Sep = 0.007202016564638099\n",
      "Oct = 0.02034569679510263\n",
      "Nov = 0.09398631616852719\n",
      "Dec = 0.007382066978754051\n"
     ]
    }
   ],
   "source": [
    "print('Jan = '+str(1081/5554))\n",
    "print('Feb = '+str(263/5554))\n",
    "print('Mar = '+str(1512/5554))\n",
    "print('Apr = '+str(166/5554))\n",
    "print('May = '+str(1024/5554))\n",
    "print('Jun = '+str(79/5554))\n",
    "print('Jul = '+str(374/5554))\n",
    "print('Aug = '+str(159/5554))\n",
    "print('Sep = '+str(40/5554))\n",
    "print('Oct = '+str(113/5554))\n",
    "print('Nov = '+str(522/5554))\n",
    "print('Dec = '+str(41/5554))"
   ]
  },
  {
   "cell_type": "code",
   "execution_count": 18,
   "id": "50233d13",
   "metadata": {},
   "outputs": [
    {
     "data": {
      "text/plain": [
       "<Axes: >"
      ]
     },
     "execution_count": 18,
     "metadata": {},
     "output_type": "execute_result"
    },
    {
     "data": {
      "image/png": "[encoded data removed]",
      "text/plain": [
       "<Figure size 640x480 with 1 Axes>"
      ]
     },
     "metadata": {},
     "output_type": "display_data"
    }
   ],
   "source": [
    "order = [1,2,3,4,5,6,7,8,9,10,11,12]\n",
    "df['Month'].value_counts(dropna=False).loc[order].plot(kind='bar')"
   ]
  },
  {
   "cell_type": "markdown",
   "id": "c4ee6e40",
   "metadata": {},
   "source": [
    "NOTE: it is clear that January, MArch, May are favourites. Followed by November.\n",
    "While it is not surprising to find that spring months are busy with flights, it is surprising that there is almost no actuvuty in the sammer months or the december holiday season."
   ]
  },
  {
   "cell_type": "code",
   "execution_count": 19,
   "id": "3db6a69b",
   "metadata": {},
   "outputs": [
    {
     "data": {
      "text/plain": [
       "3     203\n",
       "2     192\n",
       "4     191\n",
       "7     186\n",
       "21    185\n",
       "28    184\n",
       "12    183\n",
       "1     183\n",
       "14    183\n",
       "10    182\n",
       "18    182\n",
       "19    182\n",
       "24    181\n",
       "31    181\n",
       "26    181\n",
       "25    181\n",
       "6     181\n",
       "11    181\n",
       "8     181\n",
       "22    180\n",
       "20    180\n",
       "27    179\n",
       "29    179\n",
       "15    178\n",
       "13    178\n",
       "5     178\n",
       "17    176\n",
       "23    157\n",
       "30    156\n",
       "16    155\n",
       "9     155\n",
       "Name: DayofMonth, dtype: int64"
      ]
     },
     "execution_count": 19,
     "metadata": {},
     "output_type": "execute_result"
    }
   ],
   "source": [
    "df['DayofMonth'].value_counts(dropna=False)"
   ]
  },
  {
   "cell_type": "code",
   "execution_count": 20,
   "id": "a19ee124",
   "metadata": {},
   "outputs": [
    {
     "data": {
      "text/plain": [
       "<Axes: >"
      ]
     },
     "execution_count": 20,
     "metadata": {},
     "output_type": "execute_result"
    },
    {
     "data": {
      "image/png": "[encoded data removed]",
      "text/plain": [
       "<Figure size 640x480 with 1 Axes>"
      ]
     },
     "metadata": {},
     "output_type": "display_data"
    }
   ],
   "source": [
    "order1 = [1,2,3,4,5,6,7,8,9,10,11,12,13,14,15,16,17,18,19,20,21,22,23,24,25,26,27,28,29,30,31]\n",
    "df['DayofMonth'].value_counts(dropna=False).loc[order1].plot(kind='bar')"
   ]
  },
  {
   "cell_type": "markdown",
   "id": "348a0a41",
   "metadata": {},
   "source": [
    "Note: excluding minor differences, it seems there is no favourite day of the month to fly."
   ]
  },
  {
   "cell_type": "code",
   "execution_count": 21,
   "id": "f21a97b2",
   "metadata": {},
   "outputs": [
    {
     "data": {
      "text/plain": [
       "7    923\n",
       "5    901\n",
       "6    815\n",
       "4    738\n",
       "1    735\n",
       "2    724\n",
       "3    718\n",
       "Name: DayOfWeek, dtype: int64"
      ]
     },
     "execution_count": 21,
     "metadata": {},
     "output_type": "execute_result"
    }
   ],
   "source": [
    "df['DayOfWeek'].value_counts(dropna=False)"
   ]
  },
  {
   "cell_type": "code",
   "execution_count": 22,
   "id": "4933f3e7",
   "metadata": {},
   "outputs": [
    {
     "data": {
      "text/plain": [
       "<Axes: >"
      ]
     },
     "execution_count": 22,
     "metadata": {},
     "output_type": "execute_result"
    },
    {
     "data": {
      "image/png": "[encoded data removed]",
      "text/plain": [
       "<Figure size 640x480 with 1 Axes>"
      ]
     },
     "metadata": {},
     "output_type": "display_data"
    }
   ],
   "source": [
    "order2 = [1,2,3,4,5,6,7]\n",
    "df['DayOfWeek'].value_counts(dropna=False).loc[order2].plot(kind='bar')"
   ]
  },
  {
   "cell_type": "markdown",
   "id": "a076e867",
   "metadata": {},
   "source": [
    "NOTE: assuming the week starts on Monday (with 1 as a value), there is a small preference to fly towards the weekend."
   ]
  },
  {
   "cell_type": "code",
   "execution_count": 23,
   "id": "5af7b0ef",
   "metadata": {},
   "outputs": [
    {
     "name": "stdout",
     "output_type": "stream",
     "text": [
      "The number of Departure Airports is: 40\n"
     ]
    }
   ],
   "source": [
    "# counting unique values for the skill groups.\n",
    "n = len(pd.unique(df['Origin']))\n",
    " \n",
    "print(\"The number of Departure Airports is:\", \n",
    "      n)"
   ]
  },
  {
   "cell_type": "code",
   "execution_count": 24,
   "id": "2e7e6fe4",
   "metadata": {},
   "outputs": [
    {
     "data": {
      "text/plain": [
       "DFW    891\n",
       "LAX    782\n",
       "JFK    733\n",
       "MIA    414\n",
       "ORD    397\n",
       "SFO    379\n",
       "MCO    209\n",
       "LAS    198\n",
       "BOS    153\n",
       "DCA    151\n",
       "HNL     94\n",
       "SEA     94\n",
       "OGG     79\n",
       "SAN     66\n",
       "TPA     62\n",
       "SNA     62\n",
       "ELP     62\n",
       "AUS     60\n",
       "OKC     59\n",
       "DEN     58\n",
       "LGA     58\n",
       "DTW     58\n",
       "SJC     49\n",
       "RIC     35\n",
       "KOA     35\n",
       "TUS     32\n",
       "PHX     32\n",
       "SLC     31\n",
       "PHL     31\n",
       "CLT     31\n",
       "STL     29\n",
       "BNA     28\n",
       "RDU     26\n",
       "ATL     25\n",
       "LBB     25\n",
       "STT     12\n",
       "JAC      6\n",
       "IAH      4\n",
       "SMF      3\n",
       "FLL      1\n",
       "Name: Origin, dtype: int64"
      ]
     },
     "execution_count": 24,
     "metadata": {},
     "output_type": "execute_result"
    }
   ],
   "source": [
    "df['Origin'].value_counts(dropna=False)"
   ]
  },
  {
   "cell_type": "code",
   "execution_count": 25,
   "id": "1c1296cd",
   "metadata": {},
   "outputs": [
    {
     "data": {
      "text/plain": [
       "<Axes: >"
      ]
     },
     "execution_count": 25,
     "metadata": {},
     "output_type": "execute_result"
    },
    {
     "data": {
      "image/png": "[encoded data removed]",
      "text/plain": [
       "<Figure size 640x480 with 1 Axes>"
      ]
     },
     "metadata": {},
     "output_type": "display_data"
    }
   ],
   "source": [
    "df['Origin'].value_counts(dropna=False).head(20).plot(kind='barh')"
   ]
  },
  {
   "cell_type": "markdown",
   "id": "4a67bbfa",
   "metadata": {},
   "source": [
    "NOTE: the 3 busiest airports are: Dallas, Los Angeles and New York. They are followed by Miami, Chicago and San Francisco (in this order)."
   ]
  },
  {
   "cell_type": "code",
   "execution_count": 26,
   "id": "7db14e23",
   "metadata": {},
   "outputs": [
    {
     "name": "stdout",
     "output_type": "stream",
     "text": [
      "The number of Destinations available to fly is: 43 . There are 3 more destinations compared to 40 Origin airports.\n"
     ]
    }
   ],
   "source": [
    "# counting unique values for the skill groups.\n",
    "n = len(pd.unique(df['Dest']))\n",
    " \n",
    "print(\"The number of Destinations available to fly is:\", \n",
    "      n, \". There are 3 more destinations compared to 40 Origin airports.\")"
   ]
  },
  {
   "cell_type": "code",
   "execution_count": 27,
   "id": "d698a6d0",
   "metadata": {},
   "outputs": [
    {
     "data": {
      "text/plain": [
       "DFW    1053\n",
       "LAX     822\n",
       "JFK     684\n",
       "MIA     458\n",
       "ORD     409\n",
       "SFO     399\n",
       "BOS     155\n",
       "DCA     141\n",
       "LAS     135\n",
       "MCO     124\n",
       "SJC      97\n",
       "SEA      96\n",
       "LGA      85\n",
       "STL      79\n",
       "OGG      75\n",
       "SAN      65\n",
       "HNL      63\n",
       "ELP      62\n",
       "TPA      62\n",
       "SLC      47\n",
       "AUS      45\n",
       "KOA      35\n",
       "PDX      35\n",
       "TUS      31\n",
       "RDU      31\n",
       "DTW      31\n",
       "PHL      31\n",
       "DEN      31\n",
       "IAH      31\n",
       "ONT      30\n",
       "CLT      30\n",
       "SAT      27\n",
       "BNA      18\n",
       "EWR      14\n",
       "IAD       7\n",
       "SMF       4\n",
       "MCI       4\n",
       "RIC       3\n",
       "PHX       1\n",
       "SNA       1\n",
       "FLL       1\n",
       "TUL       1\n",
       "STT       1\n",
       "Name: Dest, dtype: int64"
      ]
     },
     "execution_count": 27,
     "metadata": {},
     "output_type": "execute_result"
    }
   ],
   "source": [
    "df['Dest'].value_counts(dropna=False)"
   ]
  },
  {
   "cell_type": "code",
   "execution_count": 28,
   "id": "d803d3ca",
   "metadata": {},
   "outputs": [
    {
     "data": {
      "text/plain": [
       "<Axes: >"
      ]
     },
     "execution_count": 28,
     "metadata": {},
     "output_type": "execute_result"
    },
    {
     "data": {
      "image/png": "[encoded data removed]",
      "text/plain": [
       "<Figure size 640x480 with 1 Axes>"
      ]
     },
     "metadata": {},
     "output_type": "display_data"
    }
   ],
   "source": [
    "df['Dest'].value_counts(dropna=False).head(20).plot(kind='barh')"
   ]
  },
  {
   "cell_type": "markdown",
   "id": "75e18594",
   "metadata": {},
   "source": [
    "NOTE: it is interesting to note that the exactly same trend for 'Origins' (i.e. busiest airports) are also present for 'Destinations'. This refers mainly to the top 6 on this list."
   ]
  },
  {
   "cell_type": "code",
   "execution_count": 81,
   "id": "be220605",
   "metadata": {},
   "outputs": [
    {
     "data": {
      "text/plain": [
       "0    5358\n",
       "1     196\n",
       "Name: Cancelled, dtype: int64"
      ]
     },
     "execution_count": 81,
     "metadata": {},
     "output_type": "execute_result"
    }
   ],
   "source": [
    "df['Cancelled'].value_counts(dropna=False)"
   ]
  },
  {
   "cell_type": "code",
   "execution_count": 82,
   "id": "f974f93f",
   "metadata": {},
   "outputs": [
    {
     "name": "stdout",
     "output_type": "stream",
     "text": [
      "No cancellation = 0.9647101188332733\n",
      "Cancellation = 0.03528988116672668\n"
     ]
    }
   ],
   "source": [
    "print('No cancellation = ' + str(5358/5554))\n",
    "print('Cancellation = ' + str(196/5554))"
   ]
  },
  {
   "cell_type": "code",
   "execution_count": 83,
   "id": "eba0b0f6",
   "metadata": {},
   "outputs": [
    {
     "data": {
      "text/plain": [
       "<Axes: ylabel='Cancelled'>"
      ]
     },
     "execution_count": 83,
     "metadata": {},
     "output_type": "execute_result"
    },
    {
     "data": {
      "image/png": "[encoded data removed]",
      "text/plain": [
       "<Figure size 640x480 with 1 Axes>"
      ]
     },
     "metadata": {},
     "output_type": "display_data"
    }
   ],
   "source": [
    "df['Cancelled'].value_counts(dropna=False).plot(kind='pie')"
   ]
  },
  {
   "cell_type": "code",
   "execution_count": 84,
   "id": "121ca326",
   "metadata": {},
   "outputs": [
    {
     "data": {
      "text/plain": [
       "NoCancel    5358\n",
       "B            172\n",
       "A             21\n",
       "C              3\n",
       "Name: CancellationCode, dtype: int64"
      ]
     },
     "execution_count": 84,
     "metadata": {},
     "output_type": "execute_result"
    }
   ],
   "source": [
    "df['CancellationCode'].value_counts(dropna=False)"
   ]
  },
  {
   "cell_type": "code",
   "execution_count": 85,
   "id": "109ceec7",
   "metadata": {},
   "outputs": [
    {
     "data": {
      "text/plain": [
       "<Axes: >"
      ]
     },
     "execution_count": 85,
     "metadata": {},
     "output_type": "execute_result"
    },
    {
     "data": {
      "image/png": "[encoded data removed]",
      "text/plain": [
       "<Figure size 640x480 with 1 Axes>"
      ]
     },
     "metadata": {},
     "output_type": "display_data"
    }
   ],
   "source": [
    "df['CancellationCode'].value_counts(dropna=False).plot(kind='bar')"
   ]
  },
  {
   "cell_type": "code",
   "execution_count": 86,
   "id": "7d2cb078",
   "metadata": {},
   "outputs": [
    {
     "data": {
      "text/plain": [
       "0    5542\n",
       "1      12\n",
       "Name: Diverted, dtype: int64"
      ]
     },
     "execution_count": 86,
     "metadata": {},
     "output_type": "execute_result"
    }
   ],
   "source": [
    "df['Diverted'].value_counts(dropna=False)"
   ]
  },
  {
   "cell_type": "code",
   "execution_count": 87,
   "id": "ead401b9",
   "metadata": {},
   "outputs": [
    {
     "name": "stdout",
     "output_type": "stream",
     "text": [
      "Not diverted = 0.9978393950306086\n",
      "Diverted = 0.0021606049693914295\n",
      "Virtually no flights diverted. Divertion was almost 0%\n"
     ]
    }
   ],
   "source": [
    "print('Not diverted = ' + str(5542/5554))\n",
    "print('Diverted = ' + str(12/5554))\n",
    "print('Virtually no flights diverted. Divertion was almost 0%')"
   ]
  },
  {
   "cell_type": "code",
   "execution_count": 88,
   "id": "bafc2483",
   "metadata": {},
   "outputs": [
    {
     "data": {
      "text/plain": [
       "<Axes: ylabel='Diverted'>"
      ]
     },
     "execution_count": 88,
     "metadata": {},
     "output_type": "execute_result"
    },
    {
     "data": {
      "image/png": "[encoded data removed]",
      "text/plain": [
       "<Figure size 640x480 with 1 Axes>"
      ]
     },
     "metadata": {},
     "output_type": "display_data"
    }
   ],
   "source": [
    "df['Diverted'].value_counts(dropna=False).plot(kind='pie')"
   ]
  },
  {
   "cell_type": "markdown",
   "id": "764d9ed1",
   "metadata": {},
   "source": [
    "04 - DataQuestions:\n",
    "\n",
    "Display the following data:\n",
    "\n",
    "a. Total count of flight records\n",
    "b. Total cancelled flights per month\n",
    "c. Top 3 Destinations for the top 4 months = Jan, Mar, May and Nov.\n",
    "d. Top 3 busiest airports for flight departures in the same top 4 months.\n",
    "e. Top 3 busiest airports for flight departures on the 1st Sunday of MArch 2020.\n",
    "f. Top 3 destinations on the second saturday of May 2020\n",
    "g. Analyze flights for delay in departure = % and trend per day of week.\n",
    "i. Analyse flights for delay in arrival = % and trend per day of week.\n"
   ]
  },
  {
   "cell_type": "markdown",
   "id": "d665415e",
   "metadata": {},
   "source": [
    "Total count of Flight Records"
   ]
  },
  {
   "cell_type": "code",
   "execution_count": 89,
   "id": "2ed8f988",
   "metadata": {},
   "outputs": [
    {
     "data": {
      "text/plain": [
       "5554"
      ]
     },
     "execution_count": 89,
     "metadata": {},
     "output_type": "execute_result"
    }
   ],
   "source": [
    "#a. Total count of flight records\n",
    "\n",
    "df['DepTime'].count()"
   ]
  },
  {
   "cell_type": "markdown",
   "id": "62d962d1",
   "metadata": {},
   "source": [
    "Total cancelled flights per month."
   ]
  },
  {
   "cell_type": "code",
   "execution_count": 90,
   "id": "5bef557a",
   "metadata": {},
   "outputs": [],
   "source": [
    "can = df[df['Cancelled'] == 1]"
   ]
  },
  {
   "cell_type": "code",
   "execution_count": 91,
   "id": "a5371b54",
   "metadata": {},
   "outputs": [
    {
     "data": {
      "text/plain": [
       "Month\n",
       "1     32\n",
       "2      3\n",
       "3     70\n",
       "4      5\n",
       "5     44\n",
       "6      4\n",
       "7      7\n",
       "8      6\n",
       "10     5\n",
       "11    18\n",
       "12     2\n",
       "Name: Cancelled, dtype: int64"
      ]
     },
     "execution_count": 91,
     "metadata": {},
     "output_type": "execute_result"
    }
   ],
   "source": [
    "can.groupby(['Month'])['Cancelled'].count()"
   ]
  },
  {
   "cell_type": "code",
   "execution_count": 92,
   "id": "c3ae9545",
   "metadata": {},
   "outputs": [
    {
     "data": {
      "text/plain": [
       "<Axes: ylabel='Month'>"
      ]
     },
     "execution_count": 92,
     "metadata": {},
     "output_type": "execute_result"
    },
    {
     "data": {
      "image/png": "[encoded data removed]",
      "text/plain": [
       "<Figure size 640x480 with 1 Axes>"
      ]
     },
     "metadata": {},
     "output_type": "display_data"
    }
   ],
   "source": [
    "can.groupby(['Month'])['Cancelled'].count().plot(kind='barh')"
   ]
  },
  {
   "cell_type": "markdown",
   "id": "e35226c4",
   "metadata": {},
   "source": [
    "NOTE: it is interesting to observe that - for the top 4 months - the trend of cancelled flights is exactly the same for the count of flights. The busiest months had also the highest number of cancellations, in the exact same order."
   ]
  },
  {
   "cell_type": "markdown",
   "id": "d22777d6",
   "metadata": {},
   "source": [
    "Top 3 Destinations in January, MArch, May and November"
   ]
  },
  {
   "cell_type": "code",
   "execution_count": 93,
   "id": "3be9adba",
   "metadata": {},
   "outputs": [],
   "source": [
    "#Figures for January\n",
    "jan = df[df['Month'] == 1]"
   ]
  },
  {
   "cell_type": "code",
   "execution_count": 94,
   "id": "fcb702a1",
   "metadata": {},
   "outputs": [
    {
     "data": {
      "text/plain": [
       "Dest\n",
       "DFW    201\n",
       "JFK    139\n",
       "MIA    130\n",
       "Name: Dest, dtype: int64"
      ]
     },
     "execution_count": 94,
     "metadata": {},
     "output_type": "execute_result"
    }
   ],
   "source": [
    "jan.groupby(['Dest'])['Dest'].count().nlargest(3)"
   ]
  },
  {
   "cell_type": "code",
   "execution_count": 95,
   "id": "386b272c",
   "metadata": {},
   "outputs": [
    {
     "data": {
      "text/plain": [
       "<Axes: xlabel='Dest'>"
      ]
     },
     "execution_count": 95,
     "metadata": {},
     "output_type": "execute_result"
    },
    {
     "data": {
      "image/png": "[encoded data removed]",
      "text/plain": [
       "<Figure size 640x480 with 1 Axes>"
      ]
     },
     "metadata": {},
     "output_type": "display_data"
    }
   ],
   "source": [
    "jan.groupby(['Dest'])['Dest'].count().nlargest(3).plot(kind='bar')"
   ]
  },
  {
   "cell_type": "code",
   "execution_count": 96,
   "id": "9b853e0c",
   "metadata": {},
   "outputs": [],
   "source": [
    "#Figures for MArch\n",
    "mar = df[df['Month'] == 3]"
   ]
  },
  {
   "cell_type": "code",
   "execution_count": 97,
   "id": "3ea75b4c",
   "metadata": {},
   "outputs": [
    {
     "data": {
      "text/plain": [
       "Dest\n",
       "JFK    365\n",
       "LAX    278\n",
       "DFW    218\n",
       "Name: Dest, dtype: int64"
      ]
     },
     "execution_count": 97,
     "metadata": {},
     "output_type": "execute_result"
    }
   ],
   "source": [
    "mar.groupby(['Dest'])['Dest'].count().nlargest(3)"
   ]
  },
  {
   "cell_type": "code",
   "execution_count": 98,
   "id": "410e1f6c",
   "metadata": {},
   "outputs": [
    {
     "data": {
      "text/plain": [
       "<Axes: xlabel='Dest'>"
      ]
     },
     "execution_count": 98,
     "metadata": {},
     "output_type": "execute_result"
    },
    {
     "data": {
      "image/png": "[encoded data removed]",
      "text/plain": [
       "<Figure size 640x480 with 1 Axes>"
      ]
     },
     "metadata": {},
     "output_type": "display_data"
    }
   ],
   "source": [
    "mar.groupby(['Dest'])['Dest'].count().nlargest(3).plot(kind='bar')"
   ]
  },
  {
   "cell_type": "code",
   "execution_count": 99,
   "id": "398154c1",
   "metadata": {},
   "outputs": [],
   "source": [
    "#Figures for May\n",
    "may = df[df['Month'] == 5]"
   ]
  },
  {
   "cell_type": "code",
   "execution_count": 100,
   "id": "89c97bf2",
   "metadata": {},
   "outputs": [
    {
     "data": {
      "text/plain": [
       "Dest\n",
       "DFW    262\n",
       "LAX    239\n",
       "ORD    115\n",
       "Name: Dest, dtype: int64"
      ]
     },
     "execution_count": 100,
     "metadata": {},
     "output_type": "execute_result"
    }
   ],
   "source": [
    "may.groupby(['Dest'])['Dest'].count().nlargest(3)"
   ]
  },
  {
   "cell_type": "code",
   "execution_count": 101,
   "id": "017e5bf0",
   "metadata": {},
   "outputs": [
    {
     "data": {
      "text/plain": [
       "<Axes: xlabel='Dest'>"
      ]
     },
     "execution_count": 101,
     "metadata": {},
     "output_type": "execute_result"
    },
    {
     "data": {
      "image/png": "[encoded data removed]",
      "text/plain": [
       "<Figure size 640x480 with 1 Axes>"
      ]
     },
     "metadata": {},
     "output_type": "display_data"
    }
   ],
   "source": [
    "may.groupby(['Dest'])['Dest'].count().nlargest(3).plot(kind='bar')"
   ]
  },
  {
   "cell_type": "code",
   "execution_count": 102,
   "id": "e4adff6e",
   "metadata": {},
   "outputs": [],
   "source": [
    "#Figures for November\n",
    "nov = df[df['Month'] == 11]"
   ]
  },
  {
   "cell_type": "code",
   "execution_count": 103,
   "id": "69a3cd80",
   "metadata": {},
   "outputs": [
    {
     "data": {
      "text/plain": [
       "Dest\n",
       "DFW    112\n",
       "ORD     92\n",
       "JFK     66\n",
       "Name: Dest, dtype: int64"
      ]
     },
     "execution_count": 103,
     "metadata": {},
     "output_type": "execute_result"
    }
   ],
   "source": [
    "nov.groupby(['Dest'])['Dest'].count().nlargest(3)"
   ]
  },
  {
   "cell_type": "code",
   "execution_count": 104,
   "id": "8f2e6f5d",
   "metadata": {},
   "outputs": [
    {
     "data": {
      "text/plain": [
       "<Axes: xlabel='Dest'>"
      ]
     },
     "execution_count": 104,
     "metadata": {},
     "output_type": "execute_result"
    },
    {
     "data": {
      "image/png": "[encoded data removed]",
      "text/plain": [
       "<Figure size 640x480 with 1 Axes>"
      ]
     },
     "metadata": {},
     "output_type": "display_data"
    }
   ],
   "source": [
    "nov.groupby(['Dest'])['Dest'].count().nlargest(3).plot(kind='bar')"
   ]
  },
  {
   "cell_type": "markdown",
   "id": "61f37b7e",
   "metadata": {},
   "source": [
    "Top 3 busiest airports for flight departures in the months of January, March, May and November"
   ]
  },
  {
   "cell_type": "code",
   "execution_count": 105,
   "id": "0d3b2595",
   "metadata": {},
   "outputs": [
    {
     "data": {
      "text/plain": [
       "Origin\n",
       "MIA    155\n",
       "DFW    147\n",
       "JFK    131\n",
       "Name: Origin, dtype: int64"
      ]
     },
     "execution_count": 105,
     "metadata": {},
     "output_type": "execute_result"
    }
   ],
   "source": [
    "#Figures for January\n",
    "jan.groupby(['Origin'])['Origin'].count().nlargest(3)"
   ]
  },
  {
   "cell_type": "code",
   "execution_count": 106,
   "id": "e34d6757",
   "metadata": {},
   "outputs": [
    {
     "data": {
      "text/plain": [
       "<Axes: xlabel='Origin'>"
      ]
     },
     "execution_count": 106,
     "metadata": {},
     "output_type": "execute_result"
    },
    {
     "data": {
      "image/png": "[encoded data removed]",
      "text/plain": [
       "<Figure size 640x480 with 1 Axes>"
      ]
     },
     "metadata": {},
     "output_type": "display_data"
    }
   ],
   "source": [
    "jan.groupby(['Origin'])['Origin'].count().nlargest(3).plot(kind='bar')"
   ]
  },
  {
   "cell_type": "code",
   "execution_count": 107,
   "id": "e1f726d6",
   "metadata": {},
   "outputs": [
    {
     "data": {
      "text/plain": [
       "Origin\n",
       "LAX    329\n",
       "JFK    279\n",
       "SFO    206\n",
       "Name: Origin, dtype: int64"
      ]
     },
     "execution_count": 107,
     "metadata": {},
     "output_type": "execute_result"
    }
   ],
   "source": [
    "#Figures for March\n",
    "mar.groupby(['Origin'])['Origin'].count().nlargest(3)"
   ]
  },
  {
   "cell_type": "code",
   "execution_count": 108,
   "id": "801d8236",
   "metadata": {},
   "outputs": [
    {
     "data": {
      "text/plain": [
       "<Axes: xlabel='Origin'>"
      ]
     },
     "execution_count": 108,
     "metadata": {},
     "output_type": "execute_result"
    },
    {
     "data": {
      "image/png": "[encoded data removed]",
      "text/plain": [
       "<Figure size 640x480 with 1 Axes>"
      ]
     },
     "metadata": {},
     "output_type": "display_data"
    }
   ],
   "source": [
    "mar.groupby(['Origin'])['Origin'].count().nlargest(3).plot(kind='bar')"
   ]
  },
  {
   "cell_type": "code",
   "execution_count": 109,
   "id": "d3f931c5",
   "metadata": {},
   "outputs": [
    {
     "data": {
      "text/plain": [
       "Origin\n",
       "DFW    220\n",
       "JFK    140\n",
       "MIA     92\n",
       "Name: Origin, dtype: int64"
      ]
     },
     "execution_count": 109,
     "metadata": {},
     "output_type": "execute_result"
    }
   ],
   "source": [
    "#Figures for May\n",
    "may.groupby(['Origin'])['Origin'].count().nlargest(3)"
   ]
  },
  {
   "cell_type": "code",
   "execution_count": 110,
   "id": "473d62c8",
   "metadata": {},
   "outputs": [
    {
     "data": {
      "text/plain": [
       "<Axes: xlabel='Origin'>"
      ]
     },
     "execution_count": 110,
     "metadata": {},
     "output_type": "execute_result"
    },
    {
     "data": {
      "image/png": "[encoded data removed]",
      "text/plain": [
       "<Figure size 640x480 with 1 Axes>"
      ]
     },
     "metadata": {},
     "output_type": "display_data"
    }
   ],
   "source": [
    "may.groupby(['Origin'])['Origin'].count().nlargest(3).plot(kind='bar')"
   ]
  },
  {
   "cell_type": "code",
   "execution_count": 111,
   "id": "af75b699",
   "metadata": {},
   "outputs": [
    {
     "data": {
      "text/plain": [
       "Origin\n",
       "DFW    107\n",
       "ORD    107\n",
       "JFK     68\n",
       "Name: Origin, dtype: int64"
      ]
     },
     "execution_count": 111,
     "metadata": {},
     "output_type": "execute_result"
    }
   ],
   "source": [
    "#Figures for November\n",
    "nov.groupby(['Origin'])['Origin'].count().nlargest(3)"
   ]
  },
  {
   "cell_type": "code",
   "execution_count": 112,
   "id": "f2abfb44",
   "metadata": {},
   "outputs": [
    {
     "data": {
      "text/plain": [
       "<Axes: xlabel='Origin'>"
      ]
     },
     "execution_count": 112,
     "metadata": {},
     "output_type": "execute_result"
    },
    {
     "data": {
      "image/png": "[encoded data removed]",
      "text/plain": [
       "<Figure size 640x480 with 1 Axes>"
      ]
     },
     "metadata": {},
     "output_type": "display_data"
    }
   ],
   "source": [
    "nov.groupby(['Origin'])['Origin'].count().nlargest(3).plot(kind='bar')"
   ]
  },
  {
   "cell_type": "markdown",
   "id": "675f6110",
   "metadata": {},
   "source": [
    "Top 3 busiest airports on the 1st Sunday of March 2020. It happens to be March the 1st."
   ]
  },
  {
   "cell_type": "code",
   "execution_count": 113,
   "id": "53518c20",
   "metadata": {},
   "outputs": [],
   "source": [
    "marsun = mar[mar['DayofMonth'] == 1]"
   ]
  },
  {
   "cell_type": "code",
   "execution_count": 114,
   "id": "c80b9994",
   "metadata": {},
   "outputs": [
    {
     "data": {
      "text/plain": [
       "Origin\n",
       "LAX    10\n",
       "JFK     7\n",
       "DFW     6\n",
       "Name: Origin, dtype: int64"
      ]
     },
     "execution_count": 114,
     "metadata": {},
     "output_type": "execute_result"
    }
   ],
   "source": [
    "#Figures for January\n",
    "marsun.groupby(['Origin'])['Origin'].count().nlargest(3)"
   ]
  },
  {
   "cell_type": "code",
   "execution_count": 115,
   "id": "42a77aff",
   "metadata": {},
   "outputs": [
    {
     "data": {
      "text/plain": [
       "<Axes: ylabel='Origin'>"
      ]
     },
     "execution_count": 115,
     "metadata": {},
     "output_type": "execute_result"
    },
    {
     "data": {
      "image/png": "[encoded data removed]",
      "text/plain": [
       "<Figure size 640x480 with 1 Axes>"
      ]
     },
     "metadata": {},
     "output_type": "display_data"
    }
   ],
   "source": [
    "marsun.groupby(['Origin'])['Origin'].count().nlargest(3).plot(kind='pie')"
   ]
  },
  {
   "cell_type": "markdown",
   "id": "4f2eaebc",
   "metadata": {},
   "source": [
    "Top 3 destinations on the 2nd Saturday of May 2020. It happens to be the 9th of May."
   ]
  },
  {
   "cell_type": "code",
   "execution_count": 116,
   "id": "c7d25af2",
   "metadata": {},
   "outputs": [],
   "source": [
    "maysun = may[may['DayofMonth'] == 9]"
   ]
  },
  {
   "cell_type": "code",
   "execution_count": 117,
   "id": "3e4690c5",
   "metadata": {},
   "outputs": [
    {
     "data": {
      "text/plain": [
       "Dest\n",
       "DFW    9\n",
       "LAX    6\n",
       "ORD    3\n",
       "Name: Dest, dtype: int64"
      ]
     },
     "execution_count": 117,
     "metadata": {},
     "output_type": "execute_result"
    }
   ],
   "source": [
    "maysun.groupby(['Dest'])['Dest'].count().nlargest(3)"
   ]
  },
  {
   "cell_type": "code",
   "execution_count": 118,
   "id": "4113c7cc",
   "metadata": {},
   "outputs": [
    {
     "data": {
      "text/plain": [
       "<Axes: ylabel='Dest'>"
      ]
     },
     "execution_count": 118,
     "metadata": {},
     "output_type": "execute_result"
    },
    {
     "data": {
      "image/png": "[encoded data removed]",
      "text/plain": [
       "<Figure size 640x480 with 1 Axes>"
      ]
     },
     "metadata": {},
     "output_type": "display_data"
    }
   ],
   "source": [
    "maysun.groupby(['Dest'])['Dest'].count().nlargest(3).plot(kind='pie')"
   ]
  },
  {
   "cell_type": "markdown",
   "id": "3d682dfc",
   "metadata": {},
   "source": [
    "Trends for delay in departure"
   ]
  },
  {
   "cell_type": "code",
   "execution_count": 119,
   "id": "a9524ad7",
   "metadata": {},
   "outputs": [],
   "source": [
    "df.loc[df['DepDelay'] <= 0, 'DepartureDelay'] = 'No'"
   ]
  },
  {
   "cell_type": "code",
   "execution_count": 120,
   "id": "5dad64bf",
   "metadata": {},
   "outputs": [],
   "source": [
    "df.loc[df['DepDelay'] > 0, 'DepartureDelay'] = 'Yes'"
   ]
  },
  {
   "cell_type": "code",
   "execution_count": 121,
   "id": "71b6bdf5",
   "metadata": {},
   "outputs": [
    {
     "data": {
      "text/plain": [
       "No     3423\n",
       "Yes    2131\n",
       "Name: DepartureDelay, dtype: int64"
      ]
     },
     "execution_count": 121,
     "metadata": {},
     "output_type": "execute_result"
    }
   ],
   "source": [
    "df['DepartureDelay'].value_counts(dropna=False)"
   ]
  },
  {
   "cell_type": "code",
   "execution_count": 122,
   "id": "f7a86ac9",
   "metadata": {},
   "outputs": [
    {
     "name": "stdout",
     "output_type": "stream",
     "text": [
      "% of delay in departure is 0.3836874324810947\n"
     ]
    }
   ],
   "source": [
    "print('% of delay in departure is ' +str(2131/5554))"
   ]
  },
  {
   "cell_type": "code",
   "execution_count": 123,
   "id": "214bedfd",
   "metadata": {},
   "outputs": [
    {
     "data": {
      "text/plain": [
       "<Axes: >"
      ]
     },
     "execution_count": 123,
     "metadata": {},
     "output_type": "execute_result"
    },
    {
     "data": {
      "image/png": "[encoded data removed]",
      "text/plain": [
       "<Figure size 640x480 with 1 Axes>"
      ]
     },
     "metadata": {},
     "output_type": "display_data"
    }
   ],
   "source": [
    "df['DepartureDelay'].value_counts(dropna=False).plot(kind='bar')"
   ]
  },
  {
   "cell_type": "markdown",
   "id": "7a99be8a",
   "metadata": {},
   "source": [
    "Trends for delay in Arrival"
   ]
  },
  {
   "cell_type": "code",
   "execution_count": 124,
   "id": "5aabeb4c",
   "metadata": {},
   "outputs": [],
   "source": [
    "df.loc[df['ArrDelay'] > 0, 'ArrivalDelay'] = 'Yes'"
   ]
  },
  {
   "cell_type": "code",
   "execution_count": 125,
   "id": "4287d48e",
   "metadata": {},
   "outputs": [],
   "source": [
    "df.loc[df['ArrDelay'] <= 0, 'ArrivalDelay'] = 'No'"
   ]
  },
  {
   "cell_type": "code",
   "execution_count": 126,
   "id": "e1b78626",
   "metadata": {},
   "outputs": [
    {
     "data": {
      "text/plain": [
       "No     3358\n",
       "Yes    2196\n",
       "Name: ArrivalDelay, dtype: int64"
      ]
     },
     "execution_count": 126,
     "metadata": {},
     "output_type": "execute_result"
    }
   ],
   "source": [
    "df['ArrivalDelay'].value_counts(dropna=False)"
   ]
  },
  {
   "cell_type": "code",
   "execution_count": 127,
   "id": "cb92a795",
   "metadata": {},
   "outputs": [
    {
     "data": {
      "text/plain": [
       "<Axes: >"
      ]
     },
     "execution_count": 127,
     "metadata": {},
     "output_type": "execute_result"
    },
    {
     "data": {
      "image/png": "[encoded data removed]",
      "text/plain": [
       "<Figure size 640x480 with 1 Axes>"
      ]
     },
     "metadata": {},
     "output_type": "display_data"
    }
   ],
   "source": [
    "df['ArrivalDelay'].value_counts(dropna=False).plot(kind='bar')"
   ]
  },
  {
   "cell_type": "code",
   "execution_count": 128,
   "id": "869790cd",
   "metadata": {},
   "outputs": [
    {
     "name": "stdout",
     "output_type": "stream",
     "text": [
      "% of delay in arrivals is 0.39539070939863163\n"
     ]
    }
   ],
   "source": [
    "print('% of delay in arrivals is ' +str(2196/5554))"
   ]
  },
  {
   "cell_type": "code",
   "execution_count": 129,
   "id": "76e7c0d9",
   "metadata": {},
   "outputs": [],
   "source": [
    "# Exporting 'DF' to csv after creating these variables\n",
    "df.to_csv(os.path.join(path, 'Task 19 - KibanaFlights', 'Task19-KibanaFlights_updated.csv'))"
   ]
  },
  {
   "cell_type": "code",
   "execution_count": 130,
   "id": "c420cca6",
   "metadata": {},
   "outputs": [],
   "source": [
    "delaydep = df[df['DepartureDelay'] == 'Yes']"
   ]
  },
  {
   "cell_type": "code",
   "execution_count": 131,
   "id": "41c3a62e",
   "metadata": {},
   "outputs": [
    {
     "data": {
      "text/plain": [
       "DayOfWeek\n",
       "1    322\n",
       "2    242\n",
       "3    229\n",
       "4    251\n",
       "5    341\n",
       "6    336\n",
       "7    410\n",
       "Name: DepartureDelay, dtype: int64"
      ]
     },
     "execution_count": 131,
     "metadata": {},
     "output_type": "execute_result"
    }
   ],
   "source": [
    "#Getting trend of deay in departure per day of week.\n",
    "delaydep.groupby(['DayOfWeek'])['DepartureDelay'].count()"
   ]
  },
  {
   "cell_type": "code",
   "execution_count": 132,
   "id": "1bc69ee4",
   "metadata": {},
   "outputs": [
    {
     "name": "stdout",
     "output_type": "stream",
     "text": [
      "Mon=0.15110276865321445\n",
      "Tue=0.11356170811825433\n",
      "Wed=0.10746128578132333\n",
      "Thu=0.11778507742843736\n",
      "Fri=0.16001877053026747\n",
      "Sat=0.15767245424683246\n",
      "Sun=0.19239793524167056\n"
     ]
    }
   ],
   "source": [
    "print('Mon='+str(322/2131))\n",
    "print('Tue='+str(242/2131))\n",
    "print('Wed='+str(229/2131))\n",
    "print('Thu='+str(251/2131))\n",
    "print('Fri='+str(341/2131))\n",
    "print('Sat='+str(336/2131))\n",
    "print('Sun='+str(410/2131))"
   ]
  },
  {
   "cell_type": "code",
   "execution_count": 133,
   "id": "e7bc68ec",
   "metadata": {},
   "outputs": [
    {
     "data": {
      "text/plain": [
       "<Axes: ylabel='DayOfWeek'>"
      ]
     },
     "execution_count": 133,
     "metadata": {},
     "output_type": "execute_result"
    },
    {
     "data": {
      "image/png": "[encoded data removed]",
      "text/plain": [
       "<Figure size 640x480 with 1 Axes>"
      ]
     },
     "metadata": {},
     "output_type": "display_data"
    }
   ],
   "source": [
    "delaydep.groupby(['DayOfWeek'])['DepartureDelay'].count().plot(kind='barh')"
   ]
  },
  {
   "cell_type": "code",
   "execution_count": 134,
   "id": "a0d0e3e3",
   "metadata": {},
   "outputs": [],
   "source": [
    "#Getting trend of deay in departure per day of week.\n",
    "arrdep = df[df['ArrivalDelay'] == 'Yes']"
   ]
  },
  {
   "cell_type": "code",
   "execution_count": 135,
   "id": "4b57c25e",
   "metadata": {},
   "outputs": [
    {
     "data": {
      "text/plain": [
       "DayOfWeek\n",
       "1    317\n",
       "2    267\n",
       "3    258\n",
       "4    273\n",
       "5    357\n",
       "6    322\n",
       "7    402\n",
       "Name: ArrivalDelay, dtype: int64"
      ]
     },
     "execution_count": 135,
     "metadata": {},
     "output_type": "execute_result"
    }
   ],
   "source": [
    "arrdep.groupby(['DayOfWeek'])['ArrivalDelay'].count()"
   ]
  },
  {
   "cell_type": "code",
   "execution_count": 136,
   "id": "433e9aa6",
   "metadata": {},
   "outputs": [
    {
     "data": {
      "text/plain": [
       "<Axes: ylabel='DayOfWeek'>"
      ]
     },
     "execution_count": 136,
     "metadata": {},
     "output_type": "execute_result"
    },
    {
     "data": {
      "image/png": "[encoded data removed]",
      "text/plain": [
       "<Figure size 640x480 with 1 Axes>"
      ]
     },
     "metadata": {},
     "output_type": "display_data"
    }
   ],
   "source": [
    "arrdep.groupby(['DayOfWeek'])['ArrivalDelay'].count().plot(kind='barh')"
   ]
  },
  {
   "cell_type": "code",
   "execution_count": 137,
   "id": "90dabc1a",
   "metadata": {},
   "outputs": [
    {
     "name": "stdout",
     "output_type": "stream",
     "text": [
      "Mon=0.14435336976320584\n",
      "Tue=0.12158469945355191\n",
      "Wed=0.11748633879781421\n",
      "Thu=0.12431693989071038\n",
      "Fri=0.16256830601092895\n",
      "Sat=0.14663023679417123\n",
      "Sun=0.1830601092896175\n"
     ]
    }
   ],
   "source": [
    "print('Mon='+str(317/2196))\n",
    "print('Tue='+str(267/2196))\n",
    "print('Wed='+str(258/2196))\n",
    "print('Thu='+str(273/2196))\n",
    "print('Fri='+str(357/2196))\n",
    "print('Sat='+str(322/2196))\n",
    "print('Sun='+str(402/2196))"
   ]
  },
  {
   "cell_type": "markdown",
   "id": "8f2bc0c4",
   "metadata": {},
   "source": [
    "Converting Jupiter Notebook to html format"
   ]
  },
  {
   "cell_type": "code",
   "execution_count": 2,
   "id": "817fb591",
   "metadata": {},
   "outputs": [
    {
     "name": "stderr",
     "output_type": "stream",
     "text": [
      "[NbConvertApp] Converting notebook Task19-KibanaFlights.ipynb to html\n",
      "[NbConvertApp] Writing 1058450 bytes to Task19-KibanaFlights.html\n"
     ]
    }
   ],
   "source": [
    "!jupyter nbconvert --to html Task19-KibanaFlights.ipynb"
   ]
  },
  {
   "cell_type": "code",
   "execution_count": null,
   "id": "d86f76a1",
   "metadata": {},
   "outputs": [],
   "source": []
  }
 ],
 "metadata": {
  "kernelspec": {
   "display_name": "Python 3 (ipykernel)",
   "language": "python",
   "name": "python3"
  },
  "language_info": {
   "codemirror_mode": {
    "name": "ipython",
    "version": 3
   },
   "file_extension": ".py",
   "mimetype": "text/x-python",
   "name": "python",
   "nbconvert_exporter": "python",
   "pygments_lexer": "ipython3",
   "version": "3.11.5"
  }
 },
 "nbformat": 4,
 "nbformat_minor": 5
}
